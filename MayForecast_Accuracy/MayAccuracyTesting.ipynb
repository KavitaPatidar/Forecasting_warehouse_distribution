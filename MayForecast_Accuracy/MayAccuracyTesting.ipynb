{
 "cells": [
  {
   "cell_type": "markdown",
   "id": "6518bc56",
   "metadata": {},
   "source": [
    "# model 1 (using Lag days distribution only)"
   ]
  },
  {
   "cell_type": "code",
   "execution_count": 1,
   "id": "8dbea28b",
   "metadata": {},
   "outputs": [
    {
     "name": "stdout",
     "output_type": "stream",
     "text": [
      "Mean Absolute Error (MAE): 10881.847019924227\n"
     ]
    }
   ],
   "source": [
    "import pandas as pd\n",
    "from sklearn.metrics import mean_absolute_error\n",
    "\n",
    "# Load the actual and forecasted data\n",
    "actual_data = pd.read_excel('/Users/kavita/Desktop/MLProject/MayForecast_Accuracy/MayActualWHReceipt.xlsx')\n",
    "forecasted_data_lagD = pd.read_excel('/Users/kavita/Desktop/MLProject/MayForecast_Accuracy/forecast_distribution_may_2024_lagD.xlsx')\n",
    "\n",
    "\n",
    "merged_data = pd.merge(actual_data, forecasted_data_lagD, on='date_wh_receive', how='inner')\n",
    "\n",
    "# the actual values are in a column named 'actual_items' in actual_data\n",
    "# and the forecasted values are in a column named 'forecasted_items' in forecasted_data\n",
    "MAE = mean_absolute_error(merged_data['actual_items'], merged_data['forecasted_items'])\n",
    "\n",
    "print(f\"Mean Absolute Error (MAE): {MAE}\")\n"
   ]
  },
  {
   "cell_type": "markdown",
   "id": "9bddd640",
   "metadata": {},
   "source": [
    "# model 2 (using Day of week and Lag days distribution)"
   ]
  },
  {
   "cell_type": "code",
   "execution_count": 2,
   "id": "28ddb0da",
   "metadata": {},
   "outputs": [
    {
     "name": "stdout",
     "output_type": "stream",
     "text": [
      "Mean Absolute Error (MAE): 7621.301990529902\n"
     ]
    }
   ],
   "source": [
    "forecasted_data_dow = pd.read_excel('/Users/kavita/Desktop/MLProject/MayForecast_Accuracy/forecast_distribution_may_2024_DOW.xlsx')\n",
    "\n",
    "merged_data = pd.merge(actual_data, forecasted_data_dow, on='date_wh_receive', how='inner')\n",
    "\n",
    "# the actual values are in a column named 'actual_items' in actual_data\n",
    "# and the forecasted values are in a column named 'forecasted_items' in forecasted_data\n",
    "MAE = mean_absolute_error(merged_data['actual_items'], merged_data['forecasted_items'])\n",
    "\n",
    "print(f\"Mean Absolute Error (MAE): {MAE}\")"
   ]
  },
  {
   "cell_type": "markdown",
   "id": "b597c119",
   "metadata": {},
   "source": [
    "lower MAE shows more accurate model. "
   ]
  },
  {
   "cell_type": "code",
   "execution_count": 3,
   "id": "cad44388",
   "metadata": {},
   "outputs": [
    {
     "name": "stdout",
     "output_type": "stream",
     "text": [
      "53755.976744186046\n"
     ]
    }
   ],
   "source": [
    "average_actual = actual_data['actual_items'].mean()\n",
    "print(average_actual)"
   ]
  },
  {
   "cell_type": "code",
   "execution_count": 4,
   "id": "63330f54",
   "metadata": {},
   "outputs": [
    {
     "name": "stdout",
     "output_type": "stream",
     "text": [
      "139730\n"
     ]
    }
   ],
   "source": [
    "range_actual = actual_data['actual_items'].max() - actual_data['actual_items'].min()\n",
    "print(range_actual)"
   ]
  },
  {
   "cell_type": "code",
   "execution_count": 5,
   "id": "4d8cba11",
   "metadata": {},
   "outputs": [],
   "source": [
    "Relative_to_average_actual_value = (MAE/average_actual)*100\n"
   ]
  },
  {
   "cell_type": "code",
   "execution_count": 6,
   "id": "84d92dda",
   "metadata": {},
   "outputs": [
    {
     "name": "stdout",
     "output_type": "stream",
     "text": [
      "14.0\n"
     ]
    }
   ],
   "source": [
    "print(Relative_to_average_actual_value.round())"
   ]
  },
  {
   "cell_type": "code",
   "execution_count": null,
   "id": "60840c0c",
   "metadata": {},
   "outputs": [],
   "source": []
  }
 ],
 "metadata": {
  "kernelspec": {
   "display_name": "Python 3 (ipykernel)",
   "language": "python",
   "name": "python3"
  },
  "language_info": {
   "codemirror_mode": {
    "name": "ipython",
    "version": 3
   },
   "file_extension": ".py",
   "mimetype": "text/x-python",
   "name": "python",
   "nbconvert_exporter": "python",
   "pygments_lexer": "ipython3",
   "version": "3.11.5"
  }
 },
 "nbformat": 4,
 "nbformat_minor": 5
}
